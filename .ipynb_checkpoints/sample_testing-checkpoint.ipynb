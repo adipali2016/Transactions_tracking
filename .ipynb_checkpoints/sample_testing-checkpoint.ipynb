{
 "cells": [
  {
   "cell_type": "code",
   "execution_count": 1,
   "metadata": {},
   "outputs": [],
   "source": [
    "import os\n",
    "from tkinter import Tk\n",
    "import pandas as pd\n",
    "import numpy as np\n",
    "from tkinter.filedialog import askopenfilename"
   ]
  },
  {
   "cell_type": "code",
   "execution_count": 2,
   "metadata": {},
   "outputs": [],
   "source": [
    "def reading_csv():\n",
    "    #filename = askopenfilename()\n",
    "    filename = r\"C:\\Users\\asus\\OneDrive - IIIT Bhopal\\Documents\\GitHub\\Transactions_tracking/training_data.xls\"\n",
    "    csv_reader = pd.read_table(filename, engine=\"python\")\n",
    "    start_ind = start_index(csv_reader)\n",
    "    csv_reader = csv_reader[start_ind:]\n",
    "    new_reader = csv_reader.iloc[0]\n",
    "    csv_reader = csv_reader[1:]\n",
    "    csv_reader.columns = new_reader\n",
    "    new_columns = []\n",
    "    for i in new_reader.values:\n",
    "        j = i.lower()\n",
    "        if \"debit\" in j:\n",
    "            i = \"Debit\"\n",
    "        elif \"credit\" in j:\n",
    "            i = \"Credit\"\n",
    "        new_columns.append(i)        \n",
    "    csv_reader = pd.DataFrame(csv_reader,columns=new_reader.values)\n",
    "    csv_reader.columns = new_columns\n",
    "    csv_reader.reset_index(drop=True, inplace=True)\n",
    "    end_ind = end_index(csv_reader)\n",
    "    csv_reader = csv_reader[:end_ind-1]\n",
    "    csv_reader = creating_table(csv_reader)\n",
    "    #print(csv_reader.head())\n",
    "    #csv_reader = int_conversion(csv_reader)\n",
    "    return csv_reader"
   ]
  },
  {
   "cell_type": "code",
   "execution_count": 3,
   "metadata": {},
   "outputs": [],
   "source": [
    "def start_index(csv):\n",
    "    for i, rows in csv.iterrows():\n",
    "        if \"Credit\" in rows.values:\n",
    "            return i\n",
    "    return -1\n",
    "\n",
    "def end_index(csv):\n",
    "    for i, rows in csv.iterrows():\n",
    "        if np.nan in rows.values:\n",
    "            return i\n",
    "    return -1 "
   ]
  },
  {
   "cell_type": "code",
   "execution_count": 4,
   "metadata": {},
   "outputs": [],
   "source": [
    "def creating_table(csv):\n",
    "    csv.fillna(0.00, inplace=True)\n",
    "    for col in csv.columns:\n",
    "        csv[col] = csv[col].replace([\" \"], 0.00)\n",
    "    return csv"
   ]
  },
  {
   "cell_type": "code",
   "execution_count": 5,
   "metadata": {},
   "outputs": [
    {
     "data": {
      "text/html": [
       "<div>\n",
       "<style scoped>\n",
       "    .dataframe tbody tr th:only-of-type {\n",
       "        vertical-align: middle;\n",
       "    }\n",
       "\n",
       "    .dataframe tbody tr th {\n",
       "        vertical-align: top;\n",
       "    }\n",
       "\n",
       "    .dataframe thead th {\n",
       "        text-align: right;\n",
       "    }\n",
       "</style>\n",
       "<table border=\"1\" class=\"dataframe\">\n",
       "  <thead>\n",
       "    <tr style=\"text-align: right;\">\n",
       "      <th></th>\n",
       "      <th>Txn Date</th>\n",
       "      <th>Value Date</th>\n",
       "      <th>Description</th>\n",
       "      <th>Ref No./Cheque No.</th>\n",
       "      <th>Debit</th>\n",
       "      <th>Credit</th>\n",
       "      <th>Balance</th>\n",
       "    </tr>\n",
       "  </thead>\n",
       "  <tbody>\n",
       "    <tr>\n",
       "      <th>273</th>\n",
       "      <td>08-Mar-21</td>\n",
       "      <td>08-Mar-21</td>\n",
       "      <td>BY TRANSFER-UPI/CR/106769659198/NAMAN  S/SB...</td>\n",
       "      <td>TRANSFER FROM 5098852162099</td>\n",
       "      <td>0</td>\n",
       "      <td>55</td>\n",
       "      <td>2,180.55</td>\n",
       "    </tr>\n",
       "    <tr>\n",
       "      <th>274</th>\n",
       "      <td>08-Mar-21</td>\n",
       "      <td>08-Mar-21</td>\n",
       "      <td>BY TRANSFER-UPI/CR/106707797008/AMAY GAU/PU...</td>\n",
       "      <td>TRANSFER FROM 5098849162094</td>\n",
       "      <td>0</td>\n",
       "      <td>53</td>\n",
       "      <td>2,233.55</td>\n",
       "    </tr>\n",
       "    <tr>\n",
       "      <th>275</th>\n",
       "      <td>08-Mar-21</td>\n",
       "      <td>08-Mar-21</td>\n",
       "      <td>TO TRANSFER-UPI/DR/106775644296/Shipra E/UT...</td>\n",
       "      <td>TRANSFER TO 5097544162098</td>\n",
       "      <td>100</td>\n",
       "      <td>0</td>\n",
       "      <td>2,133.55</td>\n",
       "    </tr>\n",
       "    <tr>\n",
       "      <th>276</th>\n",
       "      <td>08-Mar-21</td>\n",
       "      <td>08-Mar-21</td>\n",
       "      <td>by debit card-SBIPG VU9814310184AMAZON     ...</td>\n",
       "      <td>0</td>\n",
       "      <td>517</td>\n",
       "      <td>0</td>\n",
       "      <td>1,616.55</td>\n",
       "    </tr>\n",
       "    <tr>\n",
       "      <th>277</th>\n",
       "      <td>09-Mar-21</td>\n",
       "      <td>09-Mar-21</td>\n",
       "      <td>by debit card-SBIPG VU9815383368AMAZON     ...</td>\n",
       "      <td>0</td>\n",
       "      <td>149</td>\n",
       "      <td>0</td>\n",
       "      <td>1,467.55</td>\n",
       "    </tr>\n",
       "  </tbody>\n",
       "</table>\n",
       "</div>"
      ],
      "text/plain": [
       "      Txn Date Value Date                                        Description  \\\n",
       "273  08-Mar-21  08-Mar-21     BY TRANSFER-UPI/CR/106769659198/NAMAN  S/SB...   \n",
       "274  08-Mar-21  08-Mar-21     BY TRANSFER-UPI/CR/106707797008/AMAY GAU/PU...   \n",
       "275  08-Mar-21  08-Mar-21     TO TRANSFER-UPI/DR/106775644296/Shipra E/UT...   \n",
       "276  08-Mar-21  08-Mar-21     by debit card-SBIPG VU9814310184AMAZON     ...   \n",
       "277  09-Mar-21  09-Mar-21     by debit card-SBIPG VU9815383368AMAZON     ...   \n",
       "\n",
       "              Ref No./Cheque No. Debit Credit   Balance  \n",
       "273  TRANSFER FROM 5098852162099     0     55  2,180.55  \n",
       "274  TRANSFER FROM 5098849162094     0     53  2,233.55  \n",
       "275    TRANSFER TO 5097544162098   100      0  2,133.55  \n",
       "276                            0   517      0  1,616.55  \n",
       "277                            0   149      0  1,467.55  "
      ]
     },
     "execution_count": 5,
     "metadata": {},
     "output_type": "execute_result"
    }
   ],
   "source": [
    "csv = reading_csv()\n",
    "csv.tail()"
   ]
  },
  {
   "cell_type": "code",
   "execution_count": 6,
   "metadata": {},
   "outputs": [
    {
     "data": {
      "text/plain": [
       "Series([], dtype: float64)"
      ]
     },
     "execution_count": 6,
     "metadata": {},
     "output_type": "execute_result"
    }
   ],
   "source": [
    "csv.sum()"
   ]
  },
  {
   "cell_type": "code",
   "execution_count": 7,
   "metadata": {},
   "outputs": [
    {
     "name": "stdout",
     "output_type": "stream",
     "text": [
      "453092.52\n"
     ]
    }
   ],
   "source": [
    "sum = 0\n",
    "for i, rows in csv.iterrows():\n",
    "    i = rows['Debit']\n",
    "    if \"float\" not in str(type(i)):\n",
    "        i = i.replace(\",\",\"\")\n",
    "    sum = sum + float(i)\n",
    "print(sum)    "
   ]
  },
  {
   "cell_type": "code",
   "execution_count": 8,
   "metadata": {},
   "outputs": [],
   "source": [
    "def turn_to_table(arr, csv):\n",
    "    df = pd.DataFrame(columns=csv.columns)\n",
    "    for i, rows in csv.iterrows():\n",
    "        if i in arr:\n",
    "            dct = dict(rows)\n",
    "            df1 = pd.DataFrame(dct, index=range(1))\n",
    "            df = pd.concat([df, df1])\n",
    "            df.reset_index(drop=True, inplace=True)\n",
    "    return df  "
   ]
  },
  {
   "cell_type": "code",
   "execution_count": 9,
   "metadata": {},
   "outputs": [],
   "source": [
    "def check_upi(df):\n",
    "    lt_upi = list()\n",
    "    n = 0\n",
    "    for i in df[\"Description\"]:\n",
    "        if \"float\" not in str(type(i)):\n",
    "            i = i.lower()\n",
    "            if \"upi\" in i:\n",
    "                lt_upi.append(n)\n",
    "            n=n+1\n",
    "    return lt_upi"
   ]
  },
  {
   "cell_type": "code",
   "execution_count": 10,
   "metadata": {},
   "outputs": [
    {
     "name": "stdout",
     "output_type": "stream",
     "text": [
      "201\n"
     ]
    }
   ],
   "source": [
    "lt_upi = check_upi(csv)\n",
    "print(len(lt_upi))\n",
    "df_upi = turn_to_table(lt_upi, csv)"
   ]
  },
  {
   "cell_type": "code",
   "execution_count": 11,
   "metadata": {},
   "outputs": [
    {
     "data": {
      "text/html": [
       "<div>\n",
       "<style scoped>\n",
       "    .dataframe tbody tr th:only-of-type {\n",
       "        vertical-align: middle;\n",
       "    }\n",
       "\n",
       "    .dataframe tbody tr th {\n",
       "        vertical-align: top;\n",
       "    }\n",
       "\n",
       "    .dataframe thead th {\n",
       "        text-align: right;\n",
       "    }\n",
       "</style>\n",
       "<table border=\"1\" class=\"dataframe\">\n",
       "  <thead>\n",
       "    <tr style=\"text-align: right;\">\n",
       "      <th></th>\n",
       "      <th>Txn Date</th>\n",
       "      <th>Value Date</th>\n",
       "      <th>Description</th>\n",
       "      <th>Ref No./Cheque No.</th>\n",
       "      <th>Debit</th>\n",
       "      <th>Credit</th>\n",
       "      <th>Balance</th>\n",
       "    </tr>\n",
       "  </thead>\n",
       "  <tbody>\n",
       "    <tr>\n",
       "      <th>0</th>\n",
       "      <td>06-Apr-20</td>\n",
       "      <td>06-Apr-20</td>\n",
       "      <td>TO TRANSFER-UPI/DR/009737826388/Paytm Ai/PY...</td>\n",
       "      <td>TRANSFER TO 5097507162092</td>\n",
       "      <td>219</td>\n",
       "      <td>0</td>\n",
       "      <td>624.82</td>\n",
       "    </tr>\n",
       "    <tr>\n",
       "      <th>1</th>\n",
       "      <td>07-Apr-20</td>\n",
       "      <td>07-Apr-20</td>\n",
       "      <td>TO TRANSFER-UPI/DR/009811242612/RAJENDRA/UT...</td>\n",
       "      <td>TRANSFER TO 4898828162095</td>\n",
       "      <td>1,511.00</td>\n",
       "      <td>0</td>\n",
       "      <td>2,113.82</td>\n",
       "    </tr>\n",
       "    <tr>\n",
       "      <th>2</th>\n",
       "      <td>08-Apr-20</td>\n",
       "      <td>08-Apr-20</td>\n",
       "      <td>BY TRANSFER-UPI/CR/009915560268/GOOGLEPAY/U...</td>\n",
       "      <td>TRANSFER FROM 5098407162098</td>\n",
       "      <td>0</td>\n",
       "      <td>5</td>\n",
       "      <td>2,118.82</td>\n",
       "    </tr>\n",
       "    <tr>\n",
       "      <th>3</th>\n",
       "      <td>09-Apr-20</td>\n",
       "      <td>09-Apr-20</td>\n",
       "      <td>BY TRANSFER-UPI/CR/010060579589/Paytm Tr/PY...</td>\n",
       "      <td>TRANSFER FROM 5099033162094</td>\n",
       "      <td>0</td>\n",
       "      <td>240</td>\n",
       "      <td>2,358.82</td>\n",
       "    </tr>\n",
       "    <tr>\n",
       "      <th>4</th>\n",
       "      <td>09-Apr-20</td>\n",
       "      <td>09-Apr-20</td>\n",
       "      <td>BY TRANSFER-UPI/CR/010060641015/Paytm Tr/PY...</td>\n",
       "      <td>TRANSFER FROM 4899355162094</td>\n",
       "      <td>0</td>\n",
       "      <td>240</td>\n",
       "      <td>2,598.82</td>\n",
       "    </tr>\n",
       "  </tbody>\n",
       "</table>\n",
       "</div>"
      ],
      "text/plain": [
       "    Txn Date Value Date                                        Description  \\\n",
       "0  06-Apr-20  06-Apr-20     TO TRANSFER-UPI/DR/009737826388/Paytm Ai/PY...   \n",
       "1  07-Apr-20  07-Apr-20     TO TRANSFER-UPI/DR/009811242612/RAJENDRA/UT...   \n",
       "2  08-Apr-20  08-Apr-20     BY TRANSFER-UPI/CR/009915560268/GOOGLEPAY/U...   \n",
       "3  09-Apr-20  09-Apr-20     BY TRANSFER-UPI/CR/010060579589/Paytm Tr/PY...   \n",
       "4  09-Apr-20  09-Apr-20     BY TRANSFER-UPI/CR/010060641015/Paytm Tr/PY...   \n",
       "\n",
       "            Ref No./Cheque No.     Debit Credit   Balance  \n",
       "0    TRANSFER TO 5097507162092       219      0    624.82  \n",
       "1    TRANSFER TO 4898828162095  1,511.00      0  2,113.82  \n",
       "2  TRANSFER FROM 5098407162098         0      5  2,118.82  \n",
       "3  TRANSFER FROM 5099033162094         0    240  2,358.82  \n",
       "4  TRANSFER FROM 4899355162094         0    240  2,598.82  "
      ]
     },
     "execution_count": 11,
     "metadata": {},
     "output_type": "execute_result"
    }
   ],
   "source": [
    "df_upi.head()"
   ]
  },
  {
   "cell_type": "code",
   "execution_count": 12,
   "metadata": {},
   "outputs": [],
   "source": [
    "def summing(csv):\n",
    "    sum_lt = 0\n",
    "    for i, rows in csv.iterrows():\n",
    "        i = rows['Debit']\n",
    "        if \"float\" not in str(type(i)):\n",
    "            i = i.replace(\",\",\"\")\n",
    "        sum_lt = sum_lt + float(i)\n",
    "    return sum_lt"
   ]
  },
  {
   "cell_type": "code",
   "execution_count": 13,
   "metadata": {},
   "outputs": [
    {
     "name": "stdout",
     "output_type": "stream",
     "text": [
      "270532.0\n"
     ]
    }
   ],
   "source": [
    "sum_upi = summing(df_upi)\n",
    "print(sum_upi)"
   ]
  },
  {
   "cell_type": "code",
   "execution_count": 29,
   "metadata": {},
   "outputs": [],
   "source": [
    "import datetime as dt\n",
    "from collections import defaultdict\n",
    "dct_month = defaultdict(list)\n",
    "for i,rows in csv.iterrows():\n",
    "    d = rows[0]\n",
    "    temp_d = d[:len(d)-2] +\"20\"+ d[len(d)-2:] \n",
    "    date_obj = dt.datetime.strptime(temp_d, \"%d-%b-%Y\")\n",
    "    month = date_obj.month\n",
    "    year = date_obj.year\n",
    "    month = str(month)+\" \"+str(year)\n",
    "    dct_month[str(month)].append(i)"
   ]
  },
  {
   "cell_type": "code",
   "execution_count": 30,
   "metadata": {},
   "outputs": [],
   "source": [
    "import matplotlib.pyplot as plt\n",
    "import numpy as np\n",
    "def bar_graph(dct_debit, dct_credit):\n",
    "    xpos = list(dct_debit.keys())\n",
    "    ypos1 = list(dct_debit.values())\n",
    "    ypos2 = list(dct_credit.values())\n",
    "    ypos = np.arange(len(dct_debit))\n",
    "    plt.xticks(ypos, xpos)\n",
    "    plt.barh(ypos1,ypos-0.2, width=0.4, label=\"Debit\")\n",
    "    plt.barh(ypos2,ypos+0.2, width=0.4,label=\"Credit\")\n",
    "    plt.ylabel(\"Amount(in Rs)\")\n",
    "    plt.title('Transactions')\n",
    "    plt.legend()\n",
    "    return 0"
   ]
  },
  {
   "cell_type": "code",
   "execution_count": 31,
   "metadata": {},
   "outputs": [
    {
     "data": {
      "text/plain": [
       "dict_keys(['4 2020', '5 2020', '6 2020', '7 2020', '8 2020', '9 2020', '10 2020', '11 2020', '12 2020', '1 2021', '2 2021', '3 2021'])"
      ]
     },
     "execution_count": 31,
     "metadata": {},
     "output_type": "execute_result"
    }
   ],
   "source": [
    "dct_month.keys()"
   ]
  },
  {
   "cell_type": "code",
   "execution_count": 32,
   "metadata": {},
   "outputs": [],
   "source": [
    "def summing(csv):\n",
    "    sum_lt = [0,0]\n",
    "    for i, rows in csv.iterrows():\n",
    "        i = rows['Debit']\n",
    "        if \"str\" in str(type(i)):\n",
    "            i = i.replace(\",\",\"\")\n",
    "        sum_lt[0] = sum_lt[0] + float(i)\n",
    "        i = rows[\"Credit\"]\n",
    "        if \"str\" in str(type(i)):\n",
    "            i = i.replace(\",\",\"\")\n",
    "        sum_lt[1] = sum_lt[1] + float(i)    \n",
    "    return sum_lt "
   ]
  },
  {
   "cell_type": "code",
   "execution_count": 33,
   "metadata": {},
   "outputs": [],
   "source": [
    "def sum_list(dct,csv):\n",
    "    dct_sum_debit = dict()\n",
    "    dct_sum_credit = dict()\n",
    "    for i in dct:\n",
    "        df = turn_to_table(dct[i],csv)\n",
    "        sm = summing(df)\n",
    "        dct_sum_debit[str(i)] = sm[0]\n",
    "        dct_sum_credit[str(i)] = sm[1]\n",
    "    return [dct_sum_debit,dct_sum_credit]"
   ]
  },
  {
   "cell_type": "code",
   "execution_count": 54,
   "metadata": {},
   "outputs": [],
   "source": [
    "dct_ans = sum_list(dct_month, csv)\n",
    "#bar_graph(dct_ans[0], dct_ans[1])"
   ]
  },
  {
   "cell_type": "code",
   "execution_count": 55,
   "metadata": {},
   "outputs": [],
   "source": [
    "import calendar\n",
    "def convert_keys(dct):\n",
    "    dct_debit, dct_credit = dct\n",
    "    new_dct_debit = dict()\n",
    "    new_dct_credit = dict()\n",
    "    print(dct_debit.keys())\n",
    "    for i in dct_debit.keys():\n",
    "        splt = i.split()\n",
    "        new_i = f\"{calendar.month_name[int(splt[0])]} {splt[1]}\"\n",
    "        print(new_i)\n",
    "        new_dct_debit[new_i] = dct_debit[i]\n",
    "        print(dct_debit.keys())\n",
    "    for i in dct_credit.keys():\n",
    "        splt = i.split()\n",
    "        print(splt[0], splt[1])\n",
    "        new_i = f\"{calendar.month_name[int(splt[0])]} {splt[1]}\"\n",
    "        new_dct_credit[new_i] = dct_credit[i]\n",
    "    return [new_dct_debit,new_dct_credit]"
   ]
  },
  {
   "cell_type": "code",
   "execution_count": 56,
   "metadata": {},
   "outputs": [
    {
     "name": "stdout",
     "output_type": "stream",
     "text": [
      "dict_keys(['4 2020', '5 2020', '6 2020', '7 2020', '8 2020', '9 2020', '10 2020', '11 2020', '12 2020', '1 2021', '2 2021', '3 2021'])\n",
      "April 2020\n",
      "dict_keys(['4 2020', '5 2020', '6 2020', '7 2020', '8 2020', '9 2020', '10 2020', '11 2020', '12 2020', '1 2021', '2 2021', '3 2021'])\n",
      "May 2020\n",
      "dict_keys(['4 2020', '5 2020', '6 2020', '7 2020', '8 2020', '9 2020', '10 2020', '11 2020', '12 2020', '1 2021', '2 2021', '3 2021'])\n",
      "June 2020\n",
      "dict_keys(['4 2020', '5 2020', '6 2020', '7 2020', '8 2020', '9 2020', '10 2020', '11 2020', '12 2020', '1 2021', '2 2021', '3 2021'])\n",
      "July 2020\n",
      "dict_keys(['4 2020', '5 2020', '6 2020', '7 2020', '8 2020', '9 2020', '10 2020', '11 2020', '12 2020', '1 2021', '2 2021', '3 2021'])\n",
      "August 2020\n",
      "dict_keys(['4 2020', '5 2020', '6 2020', '7 2020', '8 2020', '9 2020', '10 2020', '11 2020', '12 2020', '1 2021', '2 2021', '3 2021'])\n",
      "September 2020\n",
      "dict_keys(['4 2020', '5 2020', '6 2020', '7 2020', '8 2020', '9 2020', '10 2020', '11 2020', '12 2020', '1 2021', '2 2021', '3 2021'])\n",
      "October 2020\n",
      "dict_keys(['4 2020', '5 2020', '6 2020', '7 2020', '8 2020', '9 2020', '10 2020', '11 2020', '12 2020', '1 2021', '2 2021', '3 2021'])\n",
      "November 2020\n",
      "dict_keys(['4 2020', '5 2020', '6 2020', '7 2020', '8 2020', '9 2020', '10 2020', '11 2020', '12 2020', '1 2021', '2 2021', '3 2021'])\n",
      "December 2020\n",
      "dict_keys(['4 2020', '5 2020', '6 2020', '7 2020', '8 2020', '9 2020', '10 2020', '11 2020', '12 2020', '1 2021', '2 2021', '3 2021'])\n",
      "January 2021\n",
      "dict_keys(['4 2020', '5 2020', '6 2020', '7 2020', '8 2020', '9 2020', '10 2020', '11 2020', '12 2020', '1 2021', '2 2021', '3 2021'])\n",
      "February 2021\n",
      "dict_keys(['4 2020', '5 2020', '6 2020', '7 2020', '8 2020', '9 2020', '10 2020', '11 2020', '12 2020', '1 2021', '2 2021', '3 2021'])\n",
      "March 2021\n",
      "dict_keys(['4 2020', '5 2020', '6 2020', '7 2020', '8 2020', '9 2020', '10 2020', '11 2020', '12 2020', '1 2021', '2 2021', '3 2021'])\n",
      "4 2020\n",
      "5 2020\n",
      "6 2020\n",
      "7 2020\n",
      "8 2020\n",
      "9 2020\n",
      "10 2020\n",
      "11 2020\n",
      "12 2020\n",
      "1 2021\n",
      "2 2021\n",
      "3 2021\n",
      "[{'April 2020': 10586.0, 'May 2020': 41272.0, 'June 2020': 20080.0, 'July 2020': 67553.0, 'August 2020': 10698.75, 'September 2020': 23985.0, 'October 2020': 25798.0, 'November 2020': 25988.760000000002, 'December 2020': 85701.0, 'January 2021': 70010.01, 'February 2021': 67760.0, 'March 2021': 3660.0}, {'April 2020': 18485.0, 'May 2020': 34080.0, 'June 2020': 40634.0, 'July 2020': 49000.0, 'August 2020': 11818.0, 'September 2020': 33256.25, 'October 2020': 13459.0, 'November 2020': 29633.0, 'December 2020': 81241.0, 'January 2021': 73932.0, 'February 2021': 67070.0, 'March 2021': 1108.0}]\n"
     ]
    }
   ],
   "source": [
    "dct_as = convert_keys(dct_ans)\n",
    "print(dct_as)"
   ]
  },
  {
   "cell_type": "code",
   "execution_count": null,
   "metadata": {},
   "outputs": [],
   "source": []
  }
 ],
 "metadata": {
  "kernelspec": {
   "display_name": "Python 3",
   "language": "python",
   "name": "python3"
  },
  "language_info": {
   "codemirror_mode": {
    "name": "ipython",
    "version": 3
   },
   "file_extension": ".py",
   "mimetype": "text/x-python",
   "name": "python",
   "nbconvert_exporter": "python",
   "pygments_lexer": "ipython3",
   "version": "3.8.5"
  }
 },
 "nbformat": 4,
 "nbformat_minor": 4
}
